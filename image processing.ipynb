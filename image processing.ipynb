{
 "cells": [
  {
   "cell_type": "code",
   "execution_count": 12,
   "metadata": {},
   "outputs": [],
   "source": [
    "import cv2\n",
    "import numpy as np"
   ]
  },
  {
   "cell_type": "code",
   "execution_count": 16,
   "metadata": {},
   "outputs": [
    {
     "name": "stdout",
     "output_type": "stream",
     "text": [
      "[[ 63 375]\n",
      " [ 48  82]\n",
      " [760  46]\n",
      " [775 339]]\n",
      "((411.7680969238281, 210.86502075195312), (712.4873657226562, 293.6827392578125), -2.912733554840088)\n",
      "[[210 229]\n",
      " [208 117]\n",
      " [286 115]\n",
      " [289 227]]\n",
      "((248.69012451171875, 172.24586486816406), (78.95960235595703, 112.2343521118164), -1.2453643083572388)\n"
     ]
    }
   ],
   "source": [
    "img=cv2.imread(\"t3.jpg\")\n",
    "img_area=img.shape[0]*img.shape[1]\n",
    "gray_img=cv2.cvtColor(img,cv2.COLOR_BGR2GRAY)\n",
    "threshold=cv2.adaptiveThreshold(gray_img, 255, cv2.ADAPTIVE_THRESH_GAUSSIAN_C, cv2.THRESH_BINARY, 199, 15)\n",
    "kernel=np.ones((3,2),'uint8')\n",
    "thresholdn=cv2.erode(threshold,kernel,iterations=4)\n",
    "cv2.imshow(\"kbkb\",thresholdn)\n",
    "cv2.waitKey(0)\n",
    "cv2.destroyAllWindows()\n",
    "contours,_=cv2.findContours(thresholdn,cv2.RETR_TREE,cv2.CHAIN_APPROX_SIMPLE)\n",
    "j=0\n",
    "for cnt in contours:\n",
    "    if cv2.contourArea(cnt)>img_area/100 and cv2.contourArea(cnt)<0.95*img_area :\n",
    "        rect = cv2.minAreaRect(cnt)\n",
    "        box=cv2.boxPoints(rect)\n",
    "        box=np.int0(box)\n",
    "        mult = 1\n",
    "        print(box)\n",
    "        print(rect)\n",
    "        W = rect[1][0]\n",
    "        H = rect[1][1]\n",
    "\n",
    "        Xs = [i[0] for i in box]\n",
    "        Ys = [i[1] for i in box]\n",
    "        x1 = min(Xs)\n",
    "        x2 = max(Xs)\n",
    "        y1 = min(Ys)\n",
    "        y2 = max(Ys)\n",
    "\n",
    "        rotated = False\n",
    "        angle = rect[2]\n",
    "\n",
    "        if angle < -45:\n",
    "            angle+=90\n",
    "            rotated = True\n",
    "\n",
    "        center = (int((x1+x2)/2), int((y1+y2)/2))\n",
    "        size = (int(mult*(x2-x1)),int(mult*(y2-y1)))\n",
    "\n",
    "        M = cv2.getRotationMatrix2D((size[0]/2, size[1]/2), angle, 1.0)\n",
    "\n",
    "        cropped = cv2.getRectSubPix(thresholdn, size, center)    \n",
    "        cropped = cv2.warpAffine(cropped, M, size)\n",
    "        croppedW = W if not rotated else H \n",
    "        croppedH = H if not rotated else W\n",
    "        if(np.sum(cv2.bitwise_not(cropped))>j):\n",
    "            j=np.sum(cv2.bitwise_not(cropped))\n",
    "            croppedRotated = cv2.getRectSubPix(cropped, (int(croppedW*mult), int(croppedH*mult)), (size[0]/2, size[1]/2))\n",
    "\n",
    "if((croppedRotated.shape[0]-croppedRotated.shape[1])>10):\n",
    "    croppedRotated = cv2.rotate(croppedRotated, cv2.cv2.ROTATE_90_CLOCKWISE)\n",
    "img=croppedRotated\n",
    "cv2.imshow(\"kbkb\",img)\n",
    "cv2.waitKey(0)\n",
    "cv2.destroyAllWindows()\n",
    "edges = cv2.Canny(img, 100, 100)\n",
    "edges=cv2.bitwise_not(edges)\n",
    "minLineLength = (edges.shape[1]*8)//10\n",
    "a=(edges.shape[0]*2)//10\n",
    "b=(edges.shape[0]*8)//10\n",
    "maxLineGap = 70\n",
    "lines = cv2.HoughLinesP(edges,1,np.pi/180,265,minLineLength,maxLineGap)\n",
    "if lines is None:\n",
    "    lines=[]\n",
    "up=0\n",
    "down=0\n",
    "for line in lines:\n",
    "    for x1,y1,x2,y2 in line:\n",
    "        if((y1<a)or(y2<a)):\n",
    "            up+=np.sum(croppedRotated[(y1+y2)//2][min(x1,x2):max(x1,x2)])\n",
    "        if (y2>b)or(y1>b):\n",
    "            down+=np.sum(croppedRotated[(y1+y2)//2][min(x1,x2):max(x1,x2)])\n",
    "\n",
    "if(up>down):\n",
    "    orn=0\n",
    "else:\n",
    "    orn=1\n",
    "    \n",
    "for line in lines:\n",
    "    for x1,y1,x2,y2 in line:\n",
    "        if(((y1<a)or(y2<a))and(orn==1)):\n",
    "            cv2.line(croppedRotated,(x1,y1),(x2,y2),(255,255,255),7)\n",
    "        if (((y2>b)or(y1>b))and(orn==0)):\n",
    "            cv2.line(croppedRotated,(x1,y1),(x2,y2),(255,255,255),7)\n",
    "            \n",
    "if(orn==0):\n",
    "    croppedRotated = cv2.rotate(croppedRotated, cv2.ROTATE_180)\n",
    "    \n",
    "dest_not1 = cv2.bitwise_not(croppedRotated, mask = None)\n",
    "kernel=np.ones((3,2),'uint8')\n",
    "dest_not1=cv2.erode(dest_not1,kernel,iterations=2)\n",
    "img=dest_not1\n",
    "img_area=img.shape[0]*img.shape[1]\n",
    "contours,_=cv2.findContours(img,cv2.RETR_TREE,cv2.CHAIN_APPROX_SIMPLE)\n",
    "image_letter=[]\n",
    "rect_co=[]\n",
    "for cnt in contours:\n",
    "    if cv2.contourArea(cnt)>img_area/100 and cv2.contourArea(cnt)<0.95*img_area :\n",
    "        x,y,w,h = cv2.boundingRect(cnt)\n",
    "        rect_co.append([x,y,w,h])\n",
    "\n",
    "rect_co=sorted(rect_co, key = lambda x: x[0])\n",
    "final_co=[]\n",
    "for i in range(len(rect_co)):\n",
    "    x,y,w,h=rect_co[i]\n",
    "    if(len(final_co)>0):\n",
    "        if((final_co[-1][0]<x)and((final_co[-1][0]+final_co[-1][2])>(x+w))):\n",
    "            pass\n",
    "        else:\n",
    "            image_letter.append(img[y:y+h+1,x:x+w+1])\n",
    "            final_co.append(rect_co[i])\n",
    "    else:\n",
    "        image_letter.append(img[y:y+h+1,x:x+w+1])\n",
    "        final_co.append(rect_co[i])\n",
    "\n",
    "#padding\n",
    "def pad(image):\n",
    "    image=cv2.copyMakeBorder(image,20,  20,  20, 20, cv2.BORDER_CONSTANT, None,0)\n",
    "    image = cv2.resize(image, (36,36),interpolation = cv2.INTER_NEAREST)\n",
    "    return image\n",
    "\n",
    "for i in range(len(image_letter)):\n",
    "    j=pad(image_letter[i])\n",
    "    image_letter[i]=j"
   ]
  },
  {
   "cell_type": "code",
   "execution_count": 3,
   "metadata": {},
   "outputs": [],
   "source": [
    "import matplotlib.pyplot as plt"
   ]
  },
  {
   "cell_type": "code",
   "execution_count": 10,
   "metadata": {},
   "outputs": [],
   "source": [
    "cv2.imshow(\"khh\",image_letter[2])\n",
    "cv2.waitKey(0)\n",
    "cv2.destroyAllWindows()"
   ]
  },
  {
   "cell_type": "code",
   "execution_count": 8,
   "metadata": {},
   "outputs": [
    {
     "data": {
      "text/plain": [
       "<matplotlib.image.AxesImage at 0x142cb26e0d0>"
      ]
     },
     "execution_count": 8,
     "metadata": {},
     "output_type": "execute_result"
    },
    {
     "data": {
      "image/png": "[encoded data removed]",
      "text/plain": [
       "<Figure size 432x288 with 1 Axes>"
      ]
     },
     "metadata": {
      "needs_background": "light"
     },
     "output_type": "display_data"
    }
   ],
   "source": [
    "plt.imshow(image_letter[2])"
   ]
  },
  {
   "cell_type": "code",
   "execution_count": null,
   "metadata": {},
   "outputs": [],
   "source": []
  }
 ],
 "metadata": {
  "kernelspec": {
   "display_name": "Python 3",
   "language": "python",
   "name": "python3"
  },
  "language_info": {
   "codemirror_mode": {
    "name": "ipython",
    "version": 3
   },
   "file_extension": ".py",
   "mimetype": "text/x-python",
   "name": "python",
   "nbconvert_exporter": "python",
   "pygments_lexer": "ipython3",
   "version": "3.8.3"
  }
 },
 "nbformat": 4,
 "nbformat_minor": 4
}
